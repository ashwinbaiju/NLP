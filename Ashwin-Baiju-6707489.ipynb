{
 "cells": [
  {
   "cell_type": "code",
   "execution_count": 49,
   "id": "ecbc0366",
   "metadata": {},
   "outputs": [],
   "source": [
    "import json\n",
    "import pandas as pd\n",
    "import numpy as np"
   ]
  },
  {
   "cell_type": "code",
   "execution_count": 50,
   "id": "c36a447d",
   "metadata": {},
   "outputs": [],
   "source": [
    "with open(\"/Users/ashwinbaiju/Downloads/data_full.json\") as f:\n",
    "    data = json.loads(f.read())"
   ]
  },
  {
   "cell_type": "code",
   "execution_count": 99,
   "id": "d4ffc069",
   "metadata": {},
   "outputs": [],
   "source": [
    "train = pd.DataFrame.from_dict(data['train'])\n",
    "val = pd.DataFrame.from_dict(data['val'])\n",
    "test = pd.DataFrame.from_dict(data['test'])"
   ]
  },
  {
   "cell_type": "code",
   "execution_count": 101,
   "id": "2c02a1bd",
   "metadata": {},
   "outputs": [],
   "source": [
    "train.columns = ['text','intent'] \n",
    "lst = ['restaurant_reservation','calories','nutrition_info','food_last', 'cook_time','ingredient_substitution','ingredients_list','meal_suggestion']\n",
    "train = train[train.intent.isin(lst)]"
   ]
  },
  {
   "cell_type": "code",
   "execution_count": 53,
   "id": "f61fa9ff",
   "metadata": {
    "scrolled": false
   },
   "outputs": [
    {
     "data": {
      "text/plain": [
       "restaurant_reservation     100\n",
       "nutrition_info             100\n",
       "food_last                  100\n",
       "cook_time                  100\n",
       "ingredient_substitution    100\n",
       "calories                   100\n",
       "ingredients_list           100\n",
       "meal_suggestion            100\n",
       "Name: intent, dtype: int64"
      ]
     },
     "execution_count": 53,
     "metadata": {},
     "output_type": "execute_result"
    }
   ],
   "source": [
    "train.intent.value_counts()"
   ]
  },
  {
   "cell_type": "code",
   "execution_count": 54,
   "id": "9d805765",
   "metadata": {},
   "outputs": [
    {
     "data": {
      "text/plain": [
       "restaurant_reservation     20\n",
       "nutrition_info             20\n",
       "food_last                  20\n",
       "cook_time                  20\n",
       "ingredient_substitution    20\n",
       "calories                   20\n",
       "ingredients_list           20\n",
       "meal_suggestion            20\n",
       "Name: intent, dtype: int64"
      ]
     },
     "execution_count": 54,
     "metadata": {},
     "output_type": "execute_result"
    }
   ],
   "source": [
    "val.columns = ['text','intent']\n",
    "val = val[val.intent.isin(lst)]\n",
    "val.intent.value_counts()"
   ]
  },
  {
   "cell_type": "code",
   "execution_count": 103,
   "id": "cc59df3a",
   "metadata": {},
   "outputs": [
    {
     "data": {
      "text/plain": [
       "restaurant_reservation     30\n",
       "nutrition_info             30\n",
       "food_last                  30\n",
       "cook_time                  30\n",
       "ingredient_substitution    30\n",
       "calories                   30\n",
       "ingredients_list           30\n",
       "meal_suggestion            30\n",
       "Name: intent, dtype: int64"
      ]
     },
     "execution_count": 103,
     "metadata": {},
     "output_type": "execute_result"
    }
   ],
   "source": [
    "test.columns = ['text','intent']\n",
    "test = test[test.intent.isin(lst)]\n",
    "test.intent.value_counts()"
   ]
  },
  {
   "cell_type": "markdown",
   "id": "2de1c948",
   "metadata": {},
   "source": [
    "The dataset was pre-divided into training, validation and test data such that training data had 100 samples for the 8 intents chosen and the validation and test datasets had 20 and 30 samples respectively."
   ]
  },
  {
   "cell_type": "code",
   "execution_count": 56,
   "id": "066748f0",
   "metadata": {},
   "outputs": [
    {
     "data": {
      "text/html": [
       "<div>\n",
       "<style scoped>\n",
       "    .dataframe tbody tr th:only-of-type {\n",
       "        vertical-align: middle;\n",
       "    }\n",
       "\n",
       "    .dataframe tbody tr th {\n",
       "        vertical-align: top;\n",
       "    }\n",
       "\n",
       "    .dataframe thead th {\n",
       "        text-align: right;\n",
       "    }\n",
       "</style>\n",
       "<table border=\"1\" class=\"dataframe\">\n",
       "  <thead>\n",
       "    <tr style=\"text-align: right;\">\n",
       "      <th></th>\n",
       "      <th>text</th>\n",
       "      <th>intent</th>\n",
       "    </tr>\n",
       "  </thead>\n",
       "  <tbody>\n",
       "    <tr>\n",
       "      <th>2400</th>\n",
       "      <td>you need to call the melt in lakewood for a ta...</td>\n",
       "      <td>restaurant_reservation</td>\n",
       "    </tr>\n",
       "    <tr>\n",
       "      <th>2401</th>\n",
       "      <td>hey computer, make a reservation for 2 for my ...</td>\n",
       "      <td>restaurant_reservation</td>\n",
       "    </tr>\n",
       "    <tr>\n",
       "      <th>2402</th>\n",
       "      <td>i think we should reserve dad's regular table ...</td>\n",
       "      <td>restaurant_reservation</td>\n",
       "    </tr>\n",
       "    <tr>\n",
       "      <th>2403</th>\n",
       "      <td>listen i need to get a reservation for , me an...</td>\n",
       "      <td>restaurant_reservation</td>\n",
       "    </tr>\n",
       "    <tr>\n",
       "      <th>2404</th>\n",
       "      <td>can you make me a reservation for 4 pm on the ...</td>\n",
       "      <td>restaurant_reservation</td>\n",
       "    </tr>\n",
       "  </tbody>\n",
       "</table>\n",
       "</div>"
      ],
      "text/plain": [
       "                                                   text  \\\n",
       "2400  you need to call the melt in lakewood for a ta...   \n",
       "2401  hey computer, make a reservation for 2 for my ...   \n",
       "2402  i think we should reserve dad's regular table ...   \n",
       "2403  listen i need to get a reservation for , me an...   \n",
       "2404  can you make me a reservation for 4 pm on the ...   \n",
       "\n",
       "                      intent  \n",
       "2400  restaurant_reservation  \n",
       "2401  restaurant_reservation  \n",
       "2402  restaurant_reservation  \n",
       "2403  restaurant_reservation  \n",
       "2404  restaurant_reservation  "
      ]
     },
     "execution_count": 56,
     "metadata": {},
     "output_type": "execute_result"
    }
   ],
   "source": [
    "train.head()"
   ]
  },
  {
   "cell_type": "markdown",
   "id": "7685a384",
   "metadata": {},
   "source": [
    "# Data Exploration\n",
    "\n",
    "## Number of characters per text\n",
    "\n",
    "<b>To see the nature of chat texts in the dataset, some preliminary data exploration is done. First, to find the density of chat texts in the data, the number of characters in each text line is explored in a histogram.</b>"
   ]
  },
  {
   "cell_type": "code",
   "execution_count": 57,
   "id": "650339aa",
   "metadata": {},
   "outputs": [
    {
     "data": {
      "text/plain": [
       "<AxesSubplot:>"
      ]
     },
     "execution_count": 57,
     "metadata": {},
     "output_type": "execute_result"
    },
    {
     "data": {
      "image/png": "[encoded data removed]",
      "text/plain": [
       "<Figure size 432x288 with 1 Axes>"
      ]
     },
     "metadata": {
      "needs_background": "light"
     },
     "output_type": "display_data"
    }
   ],
   "source": [
    "train['text'].str.len().hist()"
   ]
  },
  {
   "cell_type": "markdown",
   "id": "74937ef9",
   "metadata": {},
   "source": [
    "## Word length distribution of texts\n",
    "\n",
    "<b>Next, it is important to know the number of words in each sentence or text in the dataset. Therefore, a histogram is plotted that gives an idea on how long the sentences are in the dataset.\n",
    "Here, it can be seen that the sentences in the data are mostly not too long. Most sentences are in the range of 7-8 words.</b>"
   ]
  },
  {
   "cell_type": "code",
   "execution_count": 58,
   "id": "6e0dbd72",
   "metadata": {},
   "outputs": [
    {
     "data": {
      "text/plain": [
       "<AxesSubplot:>"
      ]
     },
     "execution_count": 58,
     "metadata": {},
     "output_type": "execute_result"
    },
    {
     "data": {
      "image/png": "[encoded data removed]",
      "text/plain": [
       "<Figure size 432x288 with 1 Axes>"
      ]
     },
     "metadata": {
      "needs_background": "light"
     },
     "output_type": "display_data"
    }
   ],
   "source": [
    "train['text'].str.split().map(lambda x: len(x)).hist(color='purple')"
   ]
  },
  {
   "cell_type": "markdown",
   "id": "0e547107",
   "metadata": {},
   "source": [
    "## Stopwords distribution in the chat texts\n",
    "\n",
    "<b>Stopwords are connecting words used in any language that are necessary but does not contribute any value for learning to a machine learning algorithm. The number of such stopwords in the dataset is analysed below and the bar graph sheds light onto which stopwords are most common in this dataset.</b>"
   ]
  },
  {
   "cell_type": "code",
   "execution_count": 59,
   "id": "3ba2399e",
   "metadata": {},
   "outputs": [
    {
     "name": "stderr",
     "output_type": "stream",
     "text": [
      "[nltk_data] Downloading package stopwords to\n",
      "[nltk_data]     /Users/ashwinbaiju/nltk_data...\n",
      "[nltk_data]   Package stopwords is already up-to-date!\n"
     ]
    },
    {
     "data": {
      "image/png": "[encoded data removed]",
      "text/plain": [
       "<Figure size 432x288 with 1 Axes>"
      ]
     },
     "metadata": {
      "needs_background": "light"
     },
     "output_type": "display_data"
    }
   ],
   "source": [
    "import matplotlib.pyplot as plt\n",
    "import nltk\n",
    "from nltk.corpus import stopwords\n",
    "\n",
    "nltk.download('stopwords')\n",
    "stop_words=set(stopwords.words('english'))\n",
    "\n",
    "collection = []\n",
    "tex = train['text'].str.split()\n",
    "tex = tex.values.tolist()\n",
    "collection = [word for i in tex for word in i]\n",
    "from collections import defaultdict\n",
    "dic = defaultdict(int)\n",
    "for word in collection:\n",
    "    if word in stop_words:\n",
    "        dic[word]+=1\n",
    "            \n",
    "top = sorted(dic.items(), key=lambda x:x[1],reverse=True)[:10] \n",
    "x, y = zip(*top)\n",
    "plt.bar(x, y, color='brown')\n",
    "plt.show()"
   ]
  },
  {
   "cell_type": "markdown",
   "id": "70d33517",
   "metadata": {},
   "source": [
    "## Most common words in the dataset\n",
    "\n",
    "<b>Lastly, it is interesting to find out which words are most commonly used in the dataset excluding stopwords. Therefore, bar graph is used to plot the most commonly occuring words in the dataset and their counts.</b>"
   ]
  },
  {
   "cell_type": "code",
   "execution_count": 60,
   "id": "4afb6dad",
   "metadata": {},
   "outputs": [
    {
     "data": {
      "image/png": "[encoded data removed]",
      "text/plain": [
       "<Figure size 432x288 with 1 Axes>"
      ]
     },
     "metadata": {
      "needs_background": "light"
     },
     "output_type": "display_data"
    }
   ],
   "source": [
    "from collections import Counter\n",
    "\n",
    "count = Counter(collection)\n",
    "common = count.most_common()\n",
    "x = []\n",
    "y = []\n",
    "for word,count in common[:40]:\n",
    "    if (word not in stop_words):\n",
    "        x.append(word)\n",
    "        y.append(count)\n",
    "\n",
    "plt.bar(x=x, height=y, color='green')\n",
    "plt.xticks(rotation='vertical')\n",
    "plt.show()"
   ]
  },
  {
   "cell_type": "markdown",
   "id": "274ec53b",
   "metadata": {},
   "source": [
    "Naturally, it can be seen that some of the most common words in the dataset are 'calories' and 'ingredients'."
   ]
  },
  {
   "cell_type": "markdown",
   "id": "78301ba7",
   "metadata": {},
   "source": [
    "# Text Preprocessing"
   ]
  },
  {
   "cell_type": "code",
   "execution_count": 61,
   "id": "a3290574",
   "metadata": {},
   "outputs": [],
   "source": [
    "# basic preprocessing\n",
    "import re\n",
    "\n",
    "train['text_processed'] = list(map(lambda x:re.sub('[,\\.!?]', '', x),train['text'])) # removing all symbols\n",
    "train['text_processed'] = list(map(lambda x:x.lower(), train['text_processed']))     # lowercasing if any uppercase"
   ]
  },
  {
   "cell_type": "code",
   "execution_count": 62,
   "id": "95ed885d",
   "metadata": {},
   "outputs": [
    {
     "data": {
      "text/html": [
       "<div>\n",
       "<style scoped>\n",
       "    .dataframe tbody tr th:only-of-type {\n",
       "        vertical-align: middle;\n",
       "    }\n",
       "\n",
       "    .dataframe tbody tr th {\n",
       "        vertical-align: top;\n",
       "    }\n",
       "\n",
       "    .dataframe thead th {\n",
       "        text-align: right;\n",
       "    }\n",
       "</style>\n",
       "<table border=\"1\" class=\"dataframe\">\n",
       "  <thead>\n",
       "    <tr style=\"text-align: right;\">\n",
       "      <th></th>\n",
       "      <th>text</th>\n",
       "      <th>intent</th>\n",
       "      <th>text_processed</th>\n",
       "    </tr>\n",
       "  </thead>\n",
       "  <tbody>\n",
       "    <tr>\n",
       "      <th>2400</th>\n",
       "      <td>you need to call the melt in lakewood for a ta...</td>\n",
       "      <td>restaurant_reservation</td>\n",
       "      <td>you need to call the melt in lakewood for a ta...</td>\n",
       "    </tr>\n",
       "    <tr>\n",
       "      <th>2401</th>\n",
       "      <td>hey computer, make a reservation for 2 for my ...</td>\n",
       "      <td>restaurant_reservation</td>\n",
       "      <td>hey computer make a reservation for 2 for my p...</td>\n",
       "    </tr>\n",
       "    <tr>\n",
       "      <th>2402</th>\n",
       "      <td>i think we should reserve dad's regular table ...</td>\n",
       "      <td>restaurant_reservation</td>\n",
       "      <td>i think we should reserve dad's regular table ...</td>\n",
       "    </tr>\n",
       "    <tr>\n",
       "      <th>2403</th>\n",
       "      <td>listen i need to get a reservation for , me an...</td>\n",
       "      <td>restaurant_reservation</td>\n",
       "      <td>listen i need to get a reservation for  me and...</td>\n",
       "    </tr>\n",
       "    <tr>\n",
       "      <th>2404</th>\n",
       "      <td>can you make me a reservation for 4 pm on the ...</td>\n",
       "      <td>restaurant_reservation</td>\n",
       "      <td>can you make me a reservation for 4 pm on the ...</td>\n",
       "    </tr>\n",
       "  </tbody>\n",
       "</table>\n",
       "</div>"
      ],
      "text/plain": [
       "                                                   text  \\\n",
       "2400  you need to call the melt in lakewood for a ta...   \n",
       "2401  hey computer, make a reservation for 2 for my ...   \n",
       "2402  i think we should reserve dad's regular table ...   \n",
       "2403  listen i need to get a reservation for , me an...   \n",
       "2404  can you make me a reservation for 4 pm on the ...   \n",
       "\n",
       "                      intent  \\\n",
       "2400  restaurant_reservation   \n",
       "2401  restaurant_reservation   \n",
       "2402  restaurant_reservation   \n",
       "2403  restaurant_reservation   \n",
       "2404  restaurant_reservation   \n",
       "\n",
       "                                         text_processed  \n",
       "2400  you need to call the melt in lakewood for a ta...  \n",
       "2401  hey computer make a reservation for 2 for my p...  \n",
       "2402  i think we should reserve dad's regular table ...  \n",
       "2403  listen i need to get a reservation for  me and...  \n",
       "2404  can you make me a reservation for 4 pm on the ...  "
      ]
     },
     "execution_count": 62,
     "metadata": {},
     "output_type": "execute_result"
    }
   ],
   "source": [
    "train.head()"
   ]
  },
  {
   "cell_type": "code",
   "execution_count": 63,
   "id": "35a3cf89",
   "metadata": {},
   "outputs": [],
   "source": [
    "import spacy\n",
    "import gensim\n",
    "nlp = spacy.load(\"en_core_web_sm\", disable=['parser', 'ner'])"
   ]
  },
  {
   "cell_type": "code",
   "execution_count": 64,
   "id": "90fc12ad",
   "metadata": {},
   "outputs": [],
   "source": [
    "def lemmatization(texts, allowed_postags=['NOUN', 'ADJ', 'VERB', 'ADV']):\n",
    "    \"\"\"https://spacy.io/api/annotation\"\"\"\n",
    "    texts_out = []\n",
    "    for sent in texts:\n",
    "        doc = nlp(\"\".join(sent)) \n",
    "        texts_out.append([token.lemma_ for token in doc if token.pos_ in allowed_postags])\n",
    "    return texts_out"
   ]
  },
  {
   "cell_type": "code",
   "execution_count": 65,
   "id": "a0f0b61f",
   "metadata": {
    "scrolled": true
   },
   "outputs": [],
   "source": [
    "lemmed_list = lemmatization(train['text_processed'].tolist(), allowed_postags=['NOUN', 'ADJ', 'VERB', 'ADV'])"
   ]
  },
  {
   "cell_type": "code",
   "execution_count": 66,
   "id": "abce58dc",
   "metadata": {},
   "outputs": [],
   "source": [
    "train['lemmatized_text'] = lemmed_list"
   ]
  },
  {
   "cell_type": "code",
   "execution_count": 67,
   "id": "9e066188",
   "metadata": {},
   "outputs": [
    {
     "data": {
      "text/html": [
       "<div>\n",
       "<style scoped>\n",
       "    .dataframe tbody tr th:only-of-type {\n",
       "        vertical-align: middle;\n",
       "    }\n",
       "\n",
       "    .dataframe tbody tr th {\n",
       "        vertical-align: top;\n",
       "    }\n",
       "\n",
       "    .dataframe thead th {\n",
       "        text-align: right;\n",
       "    }\n",
       "</style>\n",
       "<table border=\"1\" class=\"dataframe\">\n",
       "  <thead>\n",
       "    <tr style=\"text-align: right;\">\n",
       "      <th></th>\n",
       "      <th>text</th>\n",
       "      <th>intent</th>\n",
       "      <th>text_processed</th>\n",
       "      <th>lemmatized_text</th>\n",
       "    </tr>\n",
       "  </thead>\n",
       "  <tbody>\n",
       "    <tr>\n",
       "      <th>2400</th>\n",
       "      <td>you need to call the melt in lakewood for a ta...</td>\n",
       "      <td>restaurant_reservation</td>\n",
       "      <td>you need to call the melt in lakewood for a ta...</td>\n",
       "      <td>[need, call, melt, lakewood, table, first, week]</td>\n",
       "    </tr>\n",
       "    <tr>\n",
       "      <th>2401</th>\n",
       "      <td>hey computer, make a reservation for 2 for my ...</td>\n",
       "      <td>restaurant_reservation</td>\n",
       "      <td>hey computer make a reservation for 2 for my p...</td>\n",
       "      <td>[computer, make, reservation, parent, red, lob...</td>\n",
       "    </tr>\n",
       "    <tr>\n",
       "      <th>2402</th>\n",
       "      <td>i think we should reserve dad's regular table ...</td>\n",
       "      <td>restaurant_reservation</td>\n",
       "      <td>i think we should reserve dad's regular table ...</td>\n",
       "      <td>[think, reserve, dad, regular, table, people, ...</td>\n",
       "    </tr>\n",
       "    <tr>\n",
       "      <th>2403</th>\n",
       "      <td>listen i need to get a reservation for , me an...</td>\n",
       "      <td>restaurant_reservation</td>\n",
       "      <td>listen i need to get a reservation for  me and...</td>\n",
       "      <td>[listen, need, get, reservation, pm]</td>\n",
       "    </tr>\n",
       "    <tr>\n",
       "      <th>2404</th>\n",
       "      <td>can you make me a reservation for 4 pm on the ...</td>\n",
       "      <td>restaurant_reservation</td>\n",
       "      <td>can you make me a reservation for 4 pm on the ...</td>\n",
       "      <td>[make, reservation, pm, 22nd, ruth]</td>\n",
       "    </tr>\n",
       "  </tbody>\n",
       "</table>\n",
       "</div>"
      ],
      "text/plain": [
       "                                                   text  \\\n",
       "2400  you need to call the melt in lakewood for a ta...   \n",
       "2401  hey computer, make a reservation for 2 for my ...   \n",
       "2402  i think we should reserve dad's regular table ...   \n",
       "2403  listen i need to get a reservation for , me an...   \n",
       "2404  can you make me a reservation for 4 pm on the ...   \n",
       "\n",
       "                      intent  \\\n",
       "2400  restaurant_reservation   \n",
       "2401  restaurant_reservation   \n",
       "2402  restaurant_reservation   \n",
       "2403  restaurant_reservation   \n",
       "2404  restaurant_reservation   \n",
       "\n",
       "                                         text_processed  \\\n",
       "2400  you need to call the melt in lakewood for a ta...   \n",
       "2401  hey computer make a reservation for 2 for my p...   \n",
       "2402  i think we should reserve dad's regular table ...   \n",
       "2403  listen i need to get a reservation for  me and...   \n",
       "2404  can you make me a reservation for 4 pm on the ...   \n",
       "\n",
       "                                        lemmatized_text  \n",
       "2400   [need, call, melt, lakewood, table, first, week]  \n",
       "2401  [computer, make, reservation, parent, red, lob...  \n",
       "2402  [think, reserve, dad, regular, table, people, ...  \n",
       "2403               [listen, need, get, reservation, pm]  \n",
       "2404                [make, reservation, pm, 22nd, ruth]  "
      ]
     },
     "execution_count": 67,
     "metadata": {},
     "output_type": "execute_result"
    }
   ],
   "source": [
    "train.head()"
   ]
  },
  {
   "cell_type": "code",
   "execution_count": 68,
   "id": "1d497c08",
   "metadata": {
    "scrolled": true
   },
   "outputs": [],
   "source": [
    "from sklearn.preprocessing import LabelEncoder\n",
    "intent_le = LabelEncoder()\n",
    "\n",
    "y_train = intent_le.fit_transform(train.intent.values)\n",
    "y_val = intent_le.fit_transform(val.intent.values)\n",
    "y_test = intent_le.fit_transform(test.intent.values)"
   ]
  },
  {
   "cell_type": "markdown",
   "id": "c80b36f3",
   "metadata": {},
   "source": [
    "# TF-IDF vectorization"
   ]
  },
  {
   "cell_type": "code",
   "execution_count": 69,
   "id": "39db09f6",
   "metadata": {},
   "outputs": [],
   "source": [
    "from sklearn.feature_extraction.text import TfidfVectorizer\n",
    "\n",
    "tfidf_vectorizer = TfidfVectorizer(lowercase= True, max_features=10000, ngram_range=(1,1))"
   ]
  },
  {
   "cell_type": "code",
   "execution_count": 70,
   "id": "013da3ea",
   "metadata": {
    "scrolled": false
   },
   "outputs": [
    {
     "data": {
      "text/plain": [
       "TfidfVectorizer(max_features=10000)"
      ]
     },
     "execution_count": 70,
     "metadata": {},
     "output_type": "execute_result"
    }
   ],
   "source": [
    "tfidf_vectorizer.fit(train.text)"
   ]
  },
  {
   "cell_type": "code",
   "execution_count": 71,
   "id": "75c1ea6e",
   "metadata": {},
   "outputs": [],
   "source": [
    "train_idf = tfidf_vectorizer.transform(train.text)\n",
    "val_idf = tfidf_vectorizer.transform(val.text)"
   ]
  },
  {
   "cell_type": "code",
   "execution_count": 72,
   "id": "6abe1a64",
   "metadata": {},
   "outputs": [],
   "source": [
    "from sklearn.linear_model import LogisticRegression\n",
    "from sklearn.svm import SVC\n",
    "from sklearn.naive_bayes import MultinomialNB\n",
    "\n",
    "Svm = SVC(gamma=0.5)\n",
    "lr = LogisticRegression()\n",
    "mnb = MultinomialNB()"
   ]
  },
  {
   "cell_type": "markdown",
   "id": "327169a3",
   "metadata": {},
   "source": [
    "## Gamma was tuned to 0.5\n",
    "\n",
    "<b>The first validation run of C-Support Vector Classification was done with a gamma parameter of 'auto' and returned a near 93% accuracy. By further tuning of the hyperparameter by trial-and-error, gamma was changed to '0.5'. This resulted in an improved accuracy of over 96% and managed to outperform every other machine learning algorithm used in the tests"
   ]
  },
  {
   "cell_type": "code",
   "execution_count": 73,
   "id": "cb496f6f",
   "metadata": {},
   "outputs": [
    {
     "data": {
      "text/plain": [
       "MultinomialNB()"
      ]
     },
     "execution_count": 73,
     "metadata": {},
     "output_type": "execute_result"
    }
   ],
   "source": [
    "Svm.fit(train_idf, y_train)\n",
    "lr.fit(train_idf, y_train)\n",
    "mnb.fit(train_idf, y_train)"
   ]
  },
  {
   "cell_type": "code",
   "execution_count": 74,
   "id": "60209909",
   "metadata": {},
   "outputs": [
    {
     "name": "stdout",
     "output_type": "stream",
     "text": [
      "Prediction accuracy of SVM with TF-IDF :  0.9625\n",
      "Prediction accuracy of Logistic Regression with TF-IDF :  0.95625\n",
      "Prediction accuracy of Multinomial Naive Bayes with TF-IDF :  0.93125\n"
     ]
    }
   ],
   "source": [
    "from sklearn.metrics import accuracy_score\n",
    "\n",
    "print('Prediction accuracy of SVM with TF-IDF : ', accuracy_score(y_true=y_val ,y_pred=Svm.predict(val_idf)))\n",
    "print('Prediction accuracy of Logistic Regression with TF-IDF : ', \\\n",
    "      accuracy_score(y_true=y_val ,y_pred=lr.predict(val_idf)))\n",
    "print('Prediction accuracy of Multinomial Naive Bayes with TF-IDF : ', \\\n",
    "      accuracy_score(y_true=y_val ,y_pred=mnb.predict(val_idf)))"
   ]
  },
  {
   "cell_type": "code",
   "execution_count": 75,
   "id": "8f68083f",
   "metadata": {},
   "outputs": [],
   "source": [
    "from sklearn.metrics import confusion_matrix\n",
    "\n",
    "def cmatrix_tfidf(model, test_data):\n",
    "    test_set = tfidf_vectorizer.transform(test_data.text)\n",
    "    y_test = intent_le.fit_transform(test_data.intent.values)\n",
    "    Y_pred = model.predict(test_set)\n",
    "    return confusion_matrix(y_true=y_test, y_pred=Y_pred)        "
   ]
  },
  {
   "cell_type": "code",
   "execution_count": 76,
   "id": "349c01e4",
   "metadata": {
    "scrolled": true
   },
   "outputs": [
    {
     "data": {
      "image/png": "[encoded data removed]",
      "text/plain": [
       "<Figure size 432x288 with 2 Axes>"
      ]
     },
     "metadata": {
      "needs_background": "light"
     },
     "output_type": "display_data"
    },
    {
     "data": {
      "image/png": "[encoded data removed]",
      "text/plain": [
       "<Figure size 432x288 with 2 Axes>"
      ]
     },
     "metadata": {
      "needs_background": "light"
     },
     "output_type": "display_data"
    },
    {
     "data": {
      "image/png": "[encoded data removed]",
      "text/plain": [
       "<Figure size 432x288 with 2 Axes>"
      ]
     },
     "metadata": {
      "needs_background": "light"
     },
     "output_type": "display_data"
    }
   ],
   "source": [
    "import seaborn as sns\n",
    "\n",
    "models = [('SVM',Svm),('Logistic Regression',lr),('Multinomial Naive Bayes',mnb)]\n",
    "\n",
    "for name,model in models:\n",
    "    ax = sns.heatmap(cmatrix_tfidf(model, test), annot=True, cmap='Blues')\n",
    "\n",
    "    ax.set_title(f'Confusion Matrix of {name} with TF-IDF\\n\\n');\n",
    "    ax.set_xlabel('\\nPredicted Values')\n",
    "    ax.set_ylabel('Actual Values ');\n",
    "    ax.xaxis.set_ticklabels(sorted(lst), rotation='vertical')\n",
    "    ax.yaxis.set_ticklabels(sorted(lst), rotation='horizontal')\n",
    "\n",
    "    plt.show()"
   ]
  },
  {
   "cell_type": "markdown",
   "id": "50c4974c",
   "metadata": {},
   "source": [
    "# Doc2Vec for vectorization"
   ]
  },
  {
   "cell_type": "code",
   "execution_count": 77,
   "id": "3b57a1b6",
   "metadata": {},
   "outputs": [],
   "source": [
    "import multiprocessing\n",
    "num_cores = multiprocessing.cpu_count()\n",
    "\n",
    "from gensim.models.doc2vec import TaggedDocument,Doc2Vec\n",
    "from gensim.utils import simple_preprocess"
   ]
  },
  {
   "cell_type": "code",
   "execution_count": 78,
   "id": "7fb9c5ca",
   "metadata": {},
   "outputs": [],
   "source": [
    "training_corpus = []\n",
    "for i, text in enumerate(train.text):\n",
    "    tagged_text = TaggedDocument(simple_preprocess(text), [i])\n",
    "    training_corpus.append(tagged_text)"
   ]
  },
  {
   "cell_type": "code",
   "execution_count": 79,
   "id": "8e6ebd5a",
   "metadata": {},
   "outputs": [
    {
     "name": "stdout",
     "output_type": "stream",
     "text": [
      "CPU times: user 832 ms, sys: 21 ms, total: 853 ms\n",
      "Wall time: 850 ms\n"
     ]
    }
   ],
   "source": [
    "%%time\n",
    "doc2vec_model = Doc2Vec(vector_size=300, min_count=1, workers=num_cores, epochs=30)\n",
    "doc2vec_model.build_vocab(training_corpus)\n",
    "doc2vec_model.train(training_corpus, total_examples=doc2vec_model.corpus_count, epochs=doc2vec_model.epochs)"
   ]
  },
  {
   "cell_type": "markdown",
   "id": "96d76dd4",
   "metadata": {},
   "source": [
    "The training started off with minimum word frequency to be considered at 2 and 20 epochs."
   ]
  },
  {
   "cell_type": "code",
   "execution_count": 80,
   "id": "c85ff999",
   "metadata": {},
   "outputs": [],
   "source": [
    "doc2vectorized_textlist = []\n",
    "for text in train.text:\n",
    "    doc2vectorized_textlist.append(doc2vec_model.infer_vector(simple_preprocess(text), epochs=20))"
   ]
  },
  {
   "cell_type": "code",
   "execution_count": 81,
   "id": "a45c774f",
   "metadata": {},
   "outputs": [],
   "source": [
    "from sklearn.neural_network import MLPClassifier\n",
    "\n",
    "X_train = np.asarray(doc2vectorized_textlist)\n",
    "y_train = intent_le.fit_transform(train.intent.values)\n",
    "mlp = MLPClassifier(hidden_layer_sizes=(100,18), activation='relu',\\\n",
    "                    solver='lbfgs', max_iter=10000)"
   ]
  },
  {
   "cell_type": "code",
   "execution_count": 82,
   "id": "599bab9f",
   "metadata": {},
   "outputs": [
    {
     "data": {
      "text/plain": [
       "MLPClassifier(hidden_layer_sizes=(100, 18), max_iter=10000, solver='lbfgs')"
      ]
     },
     "execution_count": 82,
     "metadata": {},
     "output_type": "execute_result"
    }
   ],
   "source": [
    "mlp.fit(X_train, y_train)"
   ]
  },
  {
   "cell_type": "code",
   "execution_count": 83,
   "id": "912893ff",
   "metadata": {},
   "outputs": [
    {
     "name": "stdout",
     "output_type": "stream",
     "text": [
      "Prediction accuracy of Multi-layer Perceptron with doc2vec :  0.85\n"
     ]
    }
   ],
   "source": [
    "val_list = []\n",
    "for text in val.text:\n",
    "    val_list.append(doc2vec_model.infer_vector(simple_preprocess(text), epochs=30))\n",
    "    \n",
    "X_val = np.asarray(val_list)\n",
    "y_val = intent_le.fit_transform(val.intent.values)\n",
    "\n",
    "print('Prediction accuracy of Multi-layer Perceptron with doc2vec : ', accuracy_score(y_true=y_val ,y_pred=mlp.predict(X_val)))"
   ]
  },
  {
   "cell_type": "markdown",
   "id": "b4d3a82a",
   "metadata": {},
   "source": [
    "The validation accuracy started off in low 60s percentage, but by taking every word into consideration by reducing 'min_count' to 1 and increasing the epochs to 30, it was possible to increase the accuracy to 80%."
   ]
  },
  {
   "cell_type": "markdown",
   "id": "77c1b9aa",
   "metadata": {},
   "source": [
    "# Experiment Testing"
   ]
  },
  {
   "cell_type": "markdown",
   "id": "12bc82a8",
   "metadata": {},
   "source": [
    "### n-grams and stopwords choices\n",
    "\n",
    "The vectorization was first done with the removal of stopwords. But since the dataset is not too large and performance was not an issue, stopwords were not chosen to be removed from vectorization. This is because including stopwords in the data improved the accuracy of prediction of all chosen machine learning algorithms. The comparison can be seen below"
   ]
  },
  {
   "cell_type": "code",
   "execution_count": 84,
   "id": "50f5c920",
   "metadata": {},
   "outputs": [],
   "source": [
    "from sklearn.feature_extraction.text import ENGLISH_STOP_WORDS\n",
    "\n",
    "tfidf_vectorizer1 = TfidfVectorizer(lowercase= True, max_features=10000, ngram_range=(1,1))\n",
    "tfidf_vectorizer2 = TfidfVectorizer(lowercase= True, max_features=10000, ngram_range=(1,2))\n",
    "tfidf_vectorizer3 = TfidfVectorizer(lowercase= True, max_features=10000, stop_words=ENGLISH_STOP_WORDS)\n",
    "tfidf_vectorizer4 = TfidfVectorizer(lowercase= True, max_features=10000, stop_words=ENGLISH_STOP_WORDS, \\\n",
    "                                   ngram_range=(1,2))"
   ]
  },
  {
   "cell_type": "code",
   "execution_count": 85,
   "id": "23bf39c9",
   "metadata": {},
   "outputs": [],
   "source": [
    "tfidf_vectorizer1.fit(train.text)\n",
    "tfidf_vectorizer2.fit(train.text)\n",
    "tfidf_vectorizer3.fit(train.text)\n",
    "tfidf_vectorizer4.fit(train.text)\n",
    "\n",
    "train_idf1 = tfidf_vectorizer1.transform(train.text)\n",
    "train_idf2 = tfidf_vectorizer2.transform(train.text)\n",
    "train_idf3 = tfidf_vectorizer3.transform(train.text)\n",
    "train_idf4 = tfidf_vectorizer4.transform(train.text)"
   ]
  },
  {
   "cell_type": "code",
   "execution_count": 86,
   "id": "3c8f7fac",
   "metadata": {},
   "outputs": [],
   "source": [
    "test_idf1  = tfidf_vectorizer1.transform(test.text)\n",
    "test_idf2  = tfidf_vectorizer2.transform(test.text)\n",
    "test_idf3  = tfidf_vectorizer3.transform(test.text)\n",
    "test_idf4  = tfidf_vectorizer4.transform(test.text)\n",
    "\n",
    "testframes = [(train_idf1,test_idf1),(train_idf2,test_idf2),(train_idf3,test_idf3),(train_idf4,test_idf4)]"
   ]
  },
  {
   "cell_type": "code",
   "execution_count": 87,
   "id": "b2628264",
   "metadata": {},
   "outputs": [
    {
     "data": {
      "text/plain": [
       "<AxesSubplot:title={'center':'Accuracy scores with preprocessing techniques'}>"
      ]
     },
     "execution_count": 87,
     "metadata": {},
     "output_type": "execute_result"
    },
    {
     "data": {
      "image/png": "[encoded data removed]",
      "text/plain": [
       "<Figure size 432x288 with 1 Axes>"
      ]
     },
     "metadata": {
      "needs_background": "light"
     },
     "output_type": "display_data"
    }
   ],
   "source": [
    "x = []\n",
    "y = ['unigram','bigram','unigram without stopwords','bigram without stopwords']\n",
    "for train,test in testframes:\n",
    "    lr.fit(train,y_train)\n",
    "    x.append(100*accuracy_score(y_true=y_test,y_pred=lr.predict(test)))\n",
    "\n",
    "plt.title('Accuracy scores with preprocessing techniques')\n",
    "sns.barplot(x=x,y=y)"
   ]
  },
  {
   "cell_type": "markdown",
   "id": "c29bf145",
   "metadata": {},
   "source": [
    "Intent prediction accuracy is tested with logistic regression using 4 combinations of use of n-grams and stopwords. When the above plot is observed, it can be seen that omitting stopwords from training managed only to drop the prediction accuracy of the model. Usage of bigrams did not improve the accuracy of prediction either."
   ]
  },
  {
   "cell_type": "markdown",
   "id": "a13573d6",
   "metadata": {},
   "source": [
    "### NLP algorithms testing\n",
    "\n",
    "The algorithms chosen for comparison on this dataset were Support Vector Machine (C-Support Vector Classification), Logistic Regression and Multinomial Naive Bayes.\n",
    "Support Vector Machine was chosen because of its natural ability to avoid overfitting and ease of hyperparameter selection. SVMs tend to learn the feature space quite accurately with its default hyperparameters in most situations and this characteristic was thought to useful for this text classification scenario.\n",
    "\n",
    "Logistic regression was chosen as one of the algorithms as a good middle-ground among the three chosen as it is not one of the more traditionally sought-after algorithms for NLP tasks. Therefore, it is believed to give a good comparitive analysis between models that are frequently used for NLP problems and those that are not.\n",
    "\n",
    "Multinomial Naive Bayes is one of the most used algorithms when it comes to any NLP problem. This is because of its mathematics dealing with probabilities and the probabilities of certain words coming after certain others is learnt by this model which makes it an effective tool for prediction of text classification. "
   ]
  },
  {
   "cell_type": "code",
   "execution_count": 89,
   "id": "a73a5531",
   "metadata": {},
   "outputs": [],
   "source": [
    "test = pd.DataFrame.from_dict(data['test'])\n",
    "test.columns = ['text','intent']\n",
    "test = test[test.intent.isin(lst)]"
   ]
  },
  {
   "cell_type": "code",
   "execution_count": 94,
   "id": "7042dc41",
   "metadata": {},
   "outputs": [
    {
     "name": "stdout",
     "output_type": "stream",
     "text": [
      "Classification report of SVM\n",
      "               precision    recall  f1-score   support\n",
      "\n",
      "           0       1.00      0.97      0.98        30\n",
      "           1       0.94      0.97      0.95        30\n",
      "           2       0.93      0.93      0.93        30\n",
      "           3       0.97      1.00      0.98        30\n",
      "           4       1.00      0.87      0.93        30\n",
      "           5       0.91      0.97      0.94        30\n",
      "           6       0.97      1.00      0.98        30\n",
      "           7       1.00      1.00      1.00        30\n",
      "\n",
      "    accuracy                           0.96       240\n",
      "   macro avg       0.96      0.96      0.96       240\n",
      "weighted avg       0.96      0.96      0.96       240\n",
      "\n",
      "\n",
      "\n",
      "Classification report of Logistic Regression\n",
      "               precision    recall  f1-score   support\n",
      "\n",
      "           0       0.97      0.97      0.97        30\n",
      "           1       0.90      0.93      0.92        30\n",
      "           2       1.00      0.93      0.97        30\n",
      "           3       0.97      1.00      0.98        30\n",
      "           4       1.00      0.90      0.95        30\n",
      "           5       0.91      1.00      0.95        30\n",
      "           6       1.00      1.00      1.00        30\n",
      "           7       1.00      1.00      1.00        30\n",
      "\n",
      "    accuracy                           0.97       240\n",
      "   macro avg       0.97      0.97      0.97       240\n",
      "weighted avg       0.97      0.97      0.97       240\n",
      "\n",
      "\n",
      "\n",
      "Classification report of Multinomial Naive Bayes\n",
      "               precision    recall  f1-score   support\n",
      "\n",
      "           0       0.90      0.90      0.90        30\n",
      "           1       0.87      0.90      0.89        30\n",
      "           2       0.94      0.97      0.95        30\n",
      "           3       1.00      0.97      0.98        30\n",
      "           4       0.96      0.83      0.89        30\n",
      "           5       0.94      1.00      0.97        30\n",
      "           6       0.97      1.00      0.98        30\n",
      "           7       1.00      1.00      1.00        30\n",
      "\n",
      "    accuracy                           0.95       240\n",
      "   macro avg       0.95      0.95      0.95       240\n",
      "weighted avg       0.95      0.95      0.95       240\n",
      "\n"
     ]
    }
   ],
   "source": [
    "from sklearn.metrics import classification_report\n",
    "\n",
    "test_idf = tfidf_vectorizer.transform(test.text)\n",
    "lr.fit(train_idf, y_train)\n",
    "print(\"Classification report of SVM\\n\", classification_report(y_true=y_test,y_pred=Svm.predict(test_idf)))\n",
    "print(\"\\n\\nClassification report of Logistic Regression\\n\", \\\n",
    "      classification_report(y_true=y_test,y_pred=lr.predict(test_idf)))\n",
    "print(\"\\n\\nClassification report of Multinomial Naive Bayes\\n\", \\\n",
    "      classification_report(y_true=y_test,y_pred=mnb.predict(test_idf)))"
   ]
  },
  {
   "cell_type": "markdown",
   "id": "b4cded35",
   "metadata": {},
   "source": [
    "It is evident from the classification report that although all models are performing really well at predicting the intent of texts, Logistic Regression and SVM are slightly outperforming Naive Bayes classifier.\n",
    "The possible reason for Naive Bayes not performing as well is maybe due to the presence of vectors for stopwords as well which may be making the model double count certain features and ruining the probability calculations."
   ]
  },
  {
   "cell_type": "markdown",
   "id": "71d0a49e",
   "metadata": {},
   "source": [
    "### Vectorization Techniques testing\n",
    "\n",
    "TF-IDF and Doc2Vec were the two vectorization techniques chosen to transform the strings into numerical form factor for the models to learn.\n",
    "The reason for choosing these two was to compare a more traditional, pure conversion of words to numerical form by analysing the frequency of occurrence and presence of words in the corpus (TF-IDF) with a modern vectorization technique where the vectors are contextually aware of other words in a hyperdimensional space (Doc2Vec).\n",
    "\n",
    "Doc2Vec was chosen over Word2Vec due its ease of converting whole chat texts to numerical vectors where Word2Vec might have to find an average of words in a text to make a feature matrix that is shaped in the appropriate form for models to learn."
   ]
  },
  {
   "cell_type": "code",
   "execution_count": 95,
   "id": "043d3e3b",
   "metadata": {},
   "outputs": [
    {
     "name": "stdout",
     "output_type": "stream",
     "text": [
      "\n",
      "Accuracy of prediction (Doc2Vec) =  0.8625\n"
     ]
    },
    {
     "data": {
      "image/png": "[encoded data removed]",
      "text/plain": [
       "<Figure size 432x288 with 2 Axes>"
      ]
     },
     "metadata": {
      "needs_background": "light"
     },
     "output_type": "display_data"
    },
    {
     "name": "stdout",
     "output_type": "stream",
     "text": [
      "\n",
      "Accuracy of prediction (TF-IDF) =  0.9625\n"
     ]
    },
    {
     "data": {
      "image/png": "[encoded data removed]",
      "text/plain": [
       "<Figure size 432x288 with 2 Axes>"
      ]
     },
     "metadata": {
      "needs_background": "light"
     },
     "output_type": "display_data"
    }
   ],
   "source": [
    "# The training model used is provided below for reference\n",
    "# doc2vec_model = Doc2Vec(vector_size=300, min_count=1, workers=num_cores, epochs=30)\n",
    "\n",
    "test_list = []\n",
    "for text in test.text:\n",
    "    test_list.append(doc2vec_model.infer_vector(simple_preprocess(text), epochs=30))\n",
    "    \n",
    "X_test = np.asarray(test_list)\n",
    "\n",
    "cm = confusion_matrix(y_true=y_test,y_pred=mlp.predict(X_test))\n",
    "ax1 = sns.heatmap(cm, annot=True, cmap='BuPu')\n",
    "ax1.set_title(f'Confusion Matrix of MLP with Doc2Vec\\n\\n');\n",
    "ax1.set_xlabel('\\nPredicted Values')\n",
    "ax1.set_ylabel('Actual Values ');\n",
    "ax1.xaxis.set_ticklabels(sorted(lst), rotation='vertical')\n",
    "ax1.yaxis.set_ticklabels(sorted(lst), rotation='horizontal')\n",
    "print(\"\\nAccuracy of prediction (Doc2Vec) = \",accuracy_score(y_true=y_test,y_pred=mlp.predict(X_test)))\n",
    "plt.show()\n",
    "\n",
    "cm1 = confusion_matrix(y_true=y_test,y_pred=Svm.predict(test_idf))\n",
    "ax2 = sns.heatmap(cm, annot=True, cmap='Greens')\n",
    "ax2.set_title(f'Confusion Matrix of SVM with TF-IDF\\n\\n');\n",
    "ax2.set_xlabel('\\nPredicted Values')\n",
    "ax2.set_ylabel('Actual Values ');\n",
    "ax2.xaxis.set_ticklabels(sorted(lst), rotation='vertical')\n",
    "ax2.yaxis.set_ticklabels(sorted(lst), rotation='horizontal')\n",
    "print(\"\\nAccuracy of prediction (TF-IDF) = \",accuracy_score(y_true=y_test,y_pred=Svm.predict(test_idf)))\n",
    "plt.show()"
   ]
  },
  {
   "cell_type": "markdown",
   "id": "1e54033a",
   "metadata": {},
   "source": [
    "Observing the above confusion matrices shows that the Doc2Vec vectorization learnt by a Multilayer Perceptron is making more errors in predicting intent of chat texts than the traditional TF-IDF learnt by SVM.\n",
    "This proves that when dealing with a small corpus with small texts, the contextuality advantage of Doc2Vec vectorization is not providing any benefit in this text classification problem. Another possible reason for this is that the Doc2Vec model was trained on this small dataset and if it could be trained with a larger corpus of restaurant related words, the benefits of contextual awareness may have started to show in the prediction accuracy."
   ]
  },
  {
   "cell_type": "markdown",
   "id": "52430e94",
   "metadata": {},
   "source": [
    "### Hyperparameter Tuning\n",
    "\n",
    "The first validation run of C-Support Vector Classification was done with a gamma parameter of 'auto' and returned a near 93% accuracy. By further tuning of the hyperparameter by trial-and-error, gamma was changed to '0.5'. This resulted in an improved accuracy of over 96% and managed to outperform every other machine learning algorithm used in the tests"
   ]
  },
  {
   "cell_type": "code",
   "execution_count": 96,
   "id": "cbff4f3a",
   "metadata": {},
   "outputs": [
    {
     "name": "stdout",
     "output_type": "stream",
     "text": [
      "Accuracy scores of SVM before and after adjusting gamma are  88.33333333333333 and  96.25 respectively\n"
     ]
    }
   ],
   "source": [
    "Svm1 = SVC(gamma='auto')\n",
    "Svm2 = SVC(gamma=0.5)\n",
    "\n",
    "Svm1.fit(train_idf, y_train)\n",
    "Svm2.fit(train_idf, y_train)\n",
    "\n",
    "print(\"Accuracy scores of SVM before and after adjusting gamma are \", \\\n",
    "     100*accuracy_score(y_true=y_test,y_pred=Svm1.predict(test_idf)), \"and \", \\\n",
    "     100*accuracy_score(y_true=y_test,y_pred=Svm2.predict(test_idf)), \"respectively\")"
   ]
  },
  {
   "cell_type": "code",
   "execution_count": 97,
   "id": "f280efb6",
   "metadata": {},
   "outputs": [
    {
     "name": "stderr",
     "output_type": "stream",
     "text": [
      "/usr/local/lib/python3.9/site-packages/sklearn/neural_network/_multilayer_perceptron.py:692: ConvergenceWarning: Stochastic Optimizer: Maximum iterations (1000) reached and the optimization hasn't converged yet.\n",
      "  warnings.warn(\n"
     ]
    },
    {
     "name": "stdout",
     "output_type": "stream",
     "text": [
      "Accuracy scores of MLP before and after adjusting hyperparameters are  77.91666666666667 and  87.91666666666667 respectively\n"
     ]
    }
   ],
   "source": [
    "mlp1 = MLPClassifier(hidden_layer_sizes=(12,6), activation='relu', max_iter=1000)\n",
    "mlp2 = MLPClassifier(hidden_layer_sizes=(100,18), activation='relu',\\\n",
    "                    solver='lbfgs', max_iter=10000)\n",
    "\n",
    "mlp1.fit(X_train, y_train)\n",
    "mlp2.fit(X_train, y_train)\n",
    "\n",
    "print(\"Accuracy scores of MLP before and after adjusting hyperparameters are \", \\\n",
    "      100*accuracy_score(y_true=y_test,y_pred=mlp1.predict(X_test)), \"and \", \\\n",
    "      100*accuracy_score(y_true=y_test,y_pred=mlp2.predict(X_test)), \"respectively\")"
   ]
  },
  {
   "cell_type": "code",
   "execution_count": 104,
   "id": "16ccf049",
   "metadata": {},
   "outputs": [
    {
     "name": "stdout",
     "output_type": "stream",
     "text": [
      "Accuracy score before tuning :  78.75\n",
      "Accuracy score after tuning :  85.41666666666666\n"
     ]
    }
   ],
   "source": [
    "doc2vec_model1 = Doc2Vec(vector_size=300, min_count=2, workers=num_cores, epochs=20)\n",
    "doc2vec_model1.build_vocab(training_corpus)\n",
    "doc2vec_model1.train(training_corpus, total_examples=doc2vec_model.corpus_count, epochs=doc2vec_model.epochs)\n",
    "\n",
    "doc2vec_model2 = Doc2Vec(vector_size=300, min_count=1, workers=num_cores, epochs=30)\n",
    "doc2vec_model2.build_vocab(training_corpus)\n",
    "doc2vec_model2.train(training_corpus, total_examples=doc2vec_model.corpus_count, epochs=doc2vec_model.epochs)\n",
    "\n",
    "vectorlist1 = []\n",
    "for text in train.text:\n",
    "    vectorlist1.append(doc2vec_model1.infer_vector(simple_preprocess(text), epochs=20))\n",
    "    \n",
    "vectorlist2 = []\n",
    "for text in train.text:\n",
    "    vectorlist2.append(doc2vec_model2.infer_vector(simple_preprocess(text), epochs=30))\n",
    "    \n",
    "testlist1 = []\n",
    "for text in test.text:\n",
    "    testlist1.append(doc2vec_model1.infer_vector(simple_preprocess(text), epochs=20))\n",
    "    \n",
    "testlist2 = []\n",
    "for text in test.text:\n",
    "    testlist2.append(doc2vec_model2.infer_vector(simple_preprocess(text), epochs=30))\n",
    "    \n",
    "X_train1 = np.asarray(vectorlist1)\n",
    "X_train2 = np.asarray(vectorlist2)\n",
    "X_test1 = np.asarray(testlist1)\n",
    "X_test2 = np.asarray(testlist2)\n",
    "\n",
    "mlp.fit(X_train1,y_train)\n",
    "print('Accuracy score before tuning : ',100*accuracy_score(y_true=y_test,y_pred=mlp.predict(X_test1)))\n",
    "mlp.fit(X_train2,y_train)\n",
    "print('Accuracy score after tuning : ',100*accuracy_score(y_true=y_test,y_pred=mlp.predict(X_test2)))"
   ]
  },
  {
   "cell_type": "markdown",
   "id": "2e8a1a83",
   "metadata": {},
   "source": [
    "## The intent classification is best effective and efficient by using the combination of TF-IDF vectorization with Support Vector Machine as its learning algorithm"
   ]
  }
 ],
 "metadata": {
  "kernelspec": {
   "display_name": "Python 3 (ipykernel)",
   "language": "python",
   "name": "python3"
  },
  "language_info": {
   "codemirror_mode": {
    "name": "ipython",
    "version": 3
   },
   "file_extension": ".py",
   "mimetype": "text/x-python",
   "name": "python",
   "nbconvert_exporter": "python",
   "pygments_lexer": "ipython3",
   "version": "3.9.13"
  }
 },
 "nbformat": 4,
 "nbformat_minor": 5
}
